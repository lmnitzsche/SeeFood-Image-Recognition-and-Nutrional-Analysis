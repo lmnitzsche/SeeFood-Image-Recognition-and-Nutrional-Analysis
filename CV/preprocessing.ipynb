{
 "cells": [
  {
   "cell_type": "code",
   "execution_count": 1,
   "metadata": {},
   "outputs": [
    {
     "name": "stdout",
     "output_type": "stream",
     "text": [
      "Requirement already satisfied: pandas in /opt/homebrew/Caskroom/miniconda/base/lib/python3.12/site-packages (2.2.3)\n",
      "Requirement already satisfied: numpy>=1.26.0 in /opt/homebrew/Caskroom/miniconda/base/lib/python3.12/site-packages (from pandas) (1.26.4)\n",
      "Requirement already satisfied: python-dateutil>=2.8.2 in /opt/homebrew/Caskroom/miniconda/base/lib/python3.12/site-packages (from pandas) (2.9.0)\n",
      "Requirement already satisfied: pytz>=2020.1 in /opt/homebrew/Caskroom/miniconda/base/lib/python3.12/site-packages (from pandas) (2024.2)\n",
      "Requirement already satisfied: tzdata>=2022.7 in /opt/homebrew/Caskroom/miniconda/base/lib/python3.12/site-packages (from pandas) (2024.2)\n",
      "Requirement already satisfied: six>=1.5 in /opt/homebrew/Caskroom/miniconda/base/lib/python3.12/site-packages (from python-dateutil>=2.8.2->pandas) (1.16.0)\n",
      "Note: you may need to restart the kernel to use updated packages.\n"
     ]
    }
   ],
   "source": [
    "## Install packages\n",
    "%pip install pandas"
   ]
  },
  {
   "cell_type": "code",
   "execution_count": 2,
   "metadata": {},
   "outputs": [],
   "source": [
    "## Import packages\n",
    "import os\n",
    "import pandas as pd\n",
    "import hashlib\n"
   ]
  },
  {
   "cell_type": "code",
   "execution_count": 7,
   "metadata": {},
   "outputs": [
    {
     "name": "stdout",
     "output_type": "stream",
     "text": [
      "['sashimi', 'sushi', 'pizza']\n",
      "./data/base\n",
      "{'sashimi': ['./data/base/sashimi/crop__sashimi12.jpg', './data/base/sashimi/crop__sashimi2.jpg', './data/base/sashimi/crop__sashimi3.jpg', './data/base/sashimi/crop__sashimi13.jpg', './data/base/sashimi/crop__sashimi11.jpg', './data/base/sashimi/crop__sashimi1.jpg', './data/base/sashimi/crop__sashimi10.jpg', './data/base/sashimi/crop__sashimi28.jpg', './data/base/sashimi/sashimi_9.jpg', './data/base/sashimi/crop__sashimi14.jpg', './data/base/sashimi/crop__sashimi4.jpg', './data/base/sashimi/crop__sashimi5.jpg', './data/base/sashimi/crop__sashimi15.jpg', './data/base/sashimi/sashimi_105.jpg', './data/base/sashimi/sashimi_107.jpg', './data/base/sashimi/crop__sashimi17.jpg', './data/base/sashimi/crop__sashimi7.jpg', './data/base/sashimi/sashimi_98.jpg', './data/base/sashimi/crop__sashimi6.jpg', './data/base/sashimi/crop__sashimi16.jpg', './data/base/sashimi/sashimi_12.jpg', './data/base/sashimi/sashimi_140.jpg', './data/base/sashimi/sashimi_32.jpg', './data/base/sashimi/sashimi_123.jpg', './data/base/sashimi/crop__sashimi27.jpg', './data/base/sashimi/sashimi_57.jpg', './data/base/sashimi/crop__sashimi26.jpg', './data/base/sashimi/crop__sashimi24.jpg', './data/base/sashimi/crop__sashimi18.jpg', './data/base/sashimi/crop__sashimi8.jpg', './data/base/sashimi/sashimi_97.jpg', './data/base/sashimi/crop__sashimi9.jpg', './data/base/sashimi/crop__sashimi19.jpg', './data/base/sashimi/crop__sashimi25.jpg', './data/base/sashimi/crop__sashimi21.jpg', './data/base/sashimi/sashimi_125.jpg', './data/base/sashimi/crop__sashimi20.jpg', './data/base/sashimi/crop__sashimi22.jpg', './data/base/sashimi/sashimi_46.jpg', './data/base/sashimi/crop__sashimi23.jpg'], 'sushi': ['./data/base/sushi/crop__sushi13.jpg', './data/base/sushi/sushi_67.jpg', './data/base/sushi/sushi_128.jpg', './data/base/sushi/sushi_100.jpg', './data/base/sushi/sushi_129.jpg', './data/base/sushi/sushi_99.jpg', './data/base/sushi/sushi_72.jpg', './data/base/sushi/sushi_66.jpg', './data/base/sushi/crop__sushi12.jpg', './data/base/sushi/crop__sushi10.jpg', './data/base/sushi/crop__sushi38.jpg', './data/base/sushi/sushi_70.jpg', './data/base/sushi/sushi_117.jpg', './data/base/sushi/sushi_103.jpg', './data/base/sushi/sushi_65.jpg', './data/base/sushi/sushi_71.jpg', './data/base/sushi/crop__sushi39.jpg', './data/base/sushi/crop__sushi11.jpg', './data/base/sushi/crop__sushi29.jpg', './data/base/sushi/crop__sushi15.jpg', './data/base/sushi/sushi_75.jpg', './data/base/sushi/sushi_61.jpg', './data/base/sushi/sushi_49.jpg', './data/base/sushi/sushi_106.jpg', './data/base/sushi/crop__sushi14.jpg', './data/base/sushi/crop__sushi28.jpg', './data/base/sushi/crop__sushi16.jpg', './data/base/sushi/sushi_76.jpg', './data/base/sushi/sushi_89.jpg', './data/base/sushi/sushi_111.jpg', './data/base/sushi/sushi_139.jpg', './data/base/sushi/sushi_138.jpg', './data/base/sushi/sushi_110.jpg', './data/base/sushi/sushi_104.jpg', './data/base/sushi/sushi_88.jpg', './data/base/sushi/crop__sushi17.jpg', './data/base/sushi/crop__sushi2.jpg', './data/base/sushi/sushi_162.jpg', './data/base/sushi/sushi_11.jpg', './data/base/sushi/crop__sushi3.jpg', './data/base/sushi/crop__sushi1.jpg', './data/base/sushi/sushi_8.jpg', './data/base/sushi/sushi_160.jpg', './data/base/sushi/sushi_161.jpg', './data/base/sushi/sushi_149.jpg', './data/base/sushi/sushi_16.jpg', './data/base/sushi/crop__sushi4.jpg', './data/base/sushi/sushi_165.jpg', './data/base/sushi/sushi_159.jpg', './data/base/sushi/sushi_164.jpg', './data/base/sushi/crop__sushi5.jpg', './data/base/sushi/sushi_17.jpg', './data/base/sushi/crop__sushi7.jpg', './data/base/sushi/sushi_15.jpg', './data/base/sushi/sushi_29.jpg', './data/base/sushi/sushi_28.jpg', './data/base/sushi/sushi_14.jpg', './data/base/sushi/crop__sushi6.jpg', './data/base/sushi/crop__sushi45.jpg', './data/base/sushi/sushi_19.jpg', './data/base/sushi/sushi_25.jpg', './data/base/sushi/sushi_31.jpg', './data/base/sushi/sushi_2.jpg', './data/base/sushi/sushi_142.jpg', './data/base/sushi/sushi_157.jpg', './data/base/sushi/sushi_18.jpg', './data/base/sushi/crop__sushi44.jpg', './data/base/sushi/crop__sushi46.jpg', './data/base/sushi/crop__sushi8.jpg', './data/base/sushi/sushi_1.jpg', './data/base/sushi/sushi_33.jpg', './data/base/sushi/crop__sushi9.jpg', './data/base/sushi/crop__sushi43.jpg', './data/base/sushi/sushi_23.jpg', './data/base/sushi/sushi_144.jpg', './data/base/sushi/sushi_151.jpg', './data/base/sushi/sushi_5.jpg', './data/base/sushi/sushi_22.jpg', './data/base/sushi/sushi_36.jpg', './data/base/sushi/crop__sushi42.jpg', './data/base/sushi/crop__sushi40.jpg', './data/base/sushi/sushi_20.jpg', './data/base/sushi/sushi_34.jpg', './data/base/sushi/sushi_6.jpg', './data/base/sushi/sushi_35.jpg', './data/base/sushi/sushi_21.jpg', './data/base/sushi/crop__sushi41.jpg', './data/base/sushi/crop__sushi26.jpg', './data/base/sushi/crop__sushi32.jpg', './data/base/sushi/sushi_109.jpg', './data/base/sushi/sushi_121.jpg', './data/base/sushi/sushi_135.jpg', './data/base/sushi/sushi_108.jpg', './data/base/sushi/sushi_53.jpg', './data/base/sushi/crop__sushi33.jpg', './data/base/sushi/crop__sushi27.jpg', './data/base/sushi/crop__sushi31.jpg', './data/base/sushi/crop__sushi25.jpg', './data/base/sushi/crop__sushi19.jpg', './data/base/sushi/sushi_136.jpg', './data/base/sushi/sushi_122.jpg', './data/base/sushi/sushi_137.jpg', './data/base/sushi/sushi_50.jpg', './data/base/sushi/crop__sushi18.jpg', './data/base/sushi/crop__sushi24.jpg', './data/base/sushi/crop__sushi30.jpg', './data/base/sushi/crop__sushi34.jpg', './data/base/sushi/crop__sushi20.jpg', './data/base/sushi/sushi_68.jpg', './data/base/sushi/sushi_133.jpg', './data/base/sushi/sushi_127.jpg', './data/base/sushi/sushi_126.jpg', './data/base/sushi/sushi_69.jpg', './data/base/sushi/crop__sushi21.jpg', './data/base/sushi/crop__sushi35.jpg', './data/base/sushi/crop__sushi23.jpg', './data/base/sushi/crop__sushi37.jpg', './data/base/sushi/sushi_43.jpg', './data/base/sushi/sushi_94.jpg', './data/base/sushi/sushi_95.jpg', './data/base/sushi/sushi_56.jpg', './data/base/sushi/sushi_42.jpg', './data/base/sushi/crop__sushi36.jpg', './data/base/sushi/crop__sushi22.jpg'], 'pizza': ['./data/base/pizza/pizza_279.jpg', './data/base/pizza/pizza_251.jpg', './data/base/pizza/pizza_245.jpg', './data/base/pizza/pizza_292.jpg', './data/base/pizza/pizza_286.jpg', './data/base/pizza/pizza_319.jpg', './data/base/pizza/pizza_443.jpg', './data/base/pizza/pizza_325.jpg', './data/base/pizza/pizza_331.jpg', './data/base/pizza/pizza_457.jpg', './data/base/pizza/crop_pizza33.jpg', './data/base/pizza/crop_pizza27.jpg', './data/base/pizza/crop_pizza26.jpg', './data/base/pizza/crop_pizza32.jpg', './data/base/pizza/pizza_330.jpg', './data/base/pizza/pizza_456.jpg', './data/base/pizza/pizza_442.jpg', './data/base/pizza/pizza_324.jpg', './data/base/pizza/pizza_318.jpg', './data/base/pizza/pizza_287.jpg', './data/base/pizza/pizza_293.jpg', './data/base/pizza/pizza_250.jpg', './data/base/pizza/pizza_278.jpg', './data/base/pizza/pizza_246.jpg', './data/base/pizza/pizza_252.jpg', './data/base/pizza/pizza_285.jpg', './data/base/pizza/pizza_291.jpg', './data/base/pizza/pizza_454.jpg', './data/base/pizza/pizza_332.jpg', './data/base/pizza/pizza_326.jpg', './data/base/pizza/pizza_440.jpg', './data/base/pizza/crop_pizza18.jpg', './data/base/pizza/crop_pizza24.jpg', './data/base/pizza/crop_pizza30.jpg', './data/base/pizza/crop_pizza31.jpg', './data/base/pizza/crop_pizza25.jpg', './data/base/pizza/crop_pizza19.jpg', './data/base/pizza/pizza_327.jpg', './data/base/pizza/pizza_441.jpg', './data/base/pizza/pizza_455.jpg', './data/base/pizza/pizza_333.jpg', './data/base/pizza/pizza_290.jpg', './data/base/pizza/pizza_284.jpg', './data/base/pizza/pizza_253.jpg', './data/base/pizza/pizza_247.jpg', './data/base/pizza/pizza_243.jpg', './data/base/pizza/pizza_257.jpg', './data/base/pizza/pizza_280.jpg', './data/base/pizza/pizza_294.jpg', './data/base/pizza/pizza_337.jpg', './data/base/pizza/pizza_451.jpg', './data/base/pizza/pizza_445.jpg', './data/base/pizza/pizza_323.jpg', './data/base/pizza/crop_pizza8.jpg', './data/base/pizza/crop_pizza21.jpg', './data/base/pizza/crop_pizza35.jpg', './data/base/pizza/crop_pizza34.jpg', './data/base/pizza/crop_pizza20.jpg', './data/base/pizza/crop_pizza9.jpg', './data/base/pizza/pizza_444.jpg', './data/base/pizza/pizza_322.jpg', './data/base/pizza/pizza_336.jpg', './data/base/pizza/pizza_450.jpg', './data/base/pizza/pizza_295.jpg', './data/base/pizza/pizza_281.jpg', './data/base/pizza/pizza_256.jpg', './data/base/pizza/pizza_242.jpg', './data/base/pizza/pizza_254.jpg', './data/base/pizza/pizza_240.jpg', './data/base/pizza/pizza_268.jpg', './data/base/pizza/pizza_297.jpg', './data/base/pizza/pizza_283.jpg', './data/base/pizza/pizza_320.jpg', './data/base/pizza/pizza_446.jpg', './data/base/pizza/pizza_452.jpg', './data/base/pizza/pizza_334.jpg', './data/base/pizza/pizza_308.jpg', './data/base/pizza/crop_pizza36.jpg', './data/base/pizza/crop_pizza22.jpg', './data/base/pizza/crop_pizza23.jpg', './data/base/pizza/crop_pizza37.jpg', './data/base/pizza/pizza_309.jpg', './data/base/pizza/pizza_453.jpg', './data/base/pizza/pizza_335.jpg', './data/base/pizza/pizza_321.jpg', './data/base/pizza/pizza_447.jpg', './data/base/pizza/pizza_282.jpg', './data/base/pizza/pizza_296.jpg', './data/base/pizza/pizza_269.jpg', './data/base/pizza/pizza_241.jpg', './data/base/pizza/pizza_255.jpg', './data/base/pizza/pizza_232.jpg', './data/base/pizza/pizza_226.jpg', './data/base/pizza/pizza_346.jpg', './data/base/pizza/pizza_420.jpg', './data/base/pizza/pizza_434.jpg', './data/base/pizza/pizza_352.jpg', './data/base/pizza/pizza_385.jpg', './data/base/pizza/pizza_178.jpg', './data/base/pizza/crop_pizza50.jpg', './data/base/pizza/pizza_187.jpg', './data/base/pizza/pizza_193.jpg', './data/base/pizza/crop_pizza44.jpg', './data/base/pizza/pizza_192.jpg', './data/base/pizza/crop_pizza45.jpg', './data/base/pizza/crop_pizza51.jpg', './data/base/pizza/pizza_186.jpg', './data/base/pizza/pizza_179.jpg', './data/base/pizza/pizza_390.jpg', './data/base/pizza/pizza_384.jpg', './data/base/pizza/pizza_435.jpg', './data/base/pizza/pizza_353.jpg', './data/base/pizza/pizza_347.jpg', './data/base/pizza/pizza_421.jpg', './data/base/pizza/pizza_3.jpg', './data/base/pizza/pizza_227.jpg', './data/base/pizza/pizza_233.jpg', './data/base/pizza/pizza_219.jpg', './data/base/pizza/pizza_225.jpg', './data/base/pizza/pizza_231.jpg', './data/base/pizza/pizza_379.jpg', './data/base/pizza/pizza_351.jpg', './data/base/pizza/pizza_437.jpg', './data/base/pizza/pizza_423.jpg', './data/base/pizza/pizza_345.jpg', './data/base/pizza/pizza_392.jpg', './data/base/pizza/pizza_386.jpg', './data/base/pizza/crop_pizza47.jpg', './data/base/pizza/pizza_190.jpg', './data/base/pizza/crop_pizza53.jpg', './data/base/pizza/pizza_185.jpg', './data/base/pizza/crop_pizza52.jpg', './data/base/pizza/crop_pizza46.jpg', './data/base/pizza/pizza_191.jpg', './data/base/pizza/pizza_393.jpg', './data/base/pizza/pizza_344.jpg', './data/base/pizza/pizza_436.jpg', './data/base/pizza/pizza_378.jpg', './data/base/pizza/pizza_230.jpg', './data/base/pizza/pizza_224.jpg', './data/base/pizza/pizza_218.jpg', './data/base/pizza/pizza_220.jpg', './data/base/pizza/pizza_432.jpg', './data/base/pizza/pizza_354.jpg', './data/base/pizza/pizza_340.jpg', './data/base/pizza/pizza_426.jpg', './data/base/pizza/pizza_368.jpg', './data/base/pizza/pizza_383.jpg', './data/base/pizza/pizza_195.jpg', './data/base/pizza/crop_pizza42.jpg', './data/base/pizza/crop_pizza56.jpg', './data/base/pizza/pizza_181.jpg', './data/base/pizza/pizza_194.jpg', './data/base/pizza/crop_pizza43.jpg', './data/base/pizza/pizza_382.jpg', './data/base/pizza/pizza_369.jpg', './data/base/pizza/pizza_341.jpg', './data/base/pizza/pizza_427.jpg', './data/base/pizza/pizza_433.jpg', './data/base/pizza/pizza_209.jpg', './data/base/pizza/pizza_235.jpg', './data/base/pizza/pizza_221.jpg', './data/base/pizza/pizza_237.jpg', './data/base/pizza/pizza_223.jpg', './data/base/pizza/pizza_343.jpg', './data/base/pizza/pizza_357.jpg', './data/base/pizza/pizza_431.jpg', './data/base/pizza/pizza_419.jpg', './data/base/pizza/pizza_380.jpg', './data/base/pizza/pizza_182.jpg', './data/base/pizza/crop_pizza55.jpg', './data/base/pizza/crop_pizza41.jpg', './data/base/pizza/pizza_196.jpg', './data/base/pizza/crop_pizza40.jpg', './data/base/pizza/pizza_197.jpg', './data/base/pizza/pizza_183.jpg', './data/base/pizza/crop_pizza54.jpg', './data/base/pizza/pizza_381.jpg', './data/base/pizza/pizza_418.jpg', './data/base/pizza/pizza_356.jpg', './data/base/pizza/pizza_430.jpg', './data/base/pizza/pizza_424.jpg', './data/base/pizza/pizza_342.jpg', './data/base/pizza/pizza_222.jpg', './data/base/pizza/pizza_236.jpg', './data/base/pizza/pizza_207.jpg', './data/base/pizza/pizza_429.jpg', './data/base/pizza/pizza_401.jpg', './data/base/pizza/pizza_415.jpg', './data/base/pizza/pizza_373.jpg', './data/base/pizza/pizza_372.jpg', './data/base/pizza/pizza_428.jpg', './data/base/pizza/pizza_206.jpg', './data/base/pizza/pizza_212.jpg', './data/base/pizza/pizza_238.jpg', './data/base/pizza/pizza_204.jpg', './data/base/pizza/pizza_210.jpg', './data/base/pizza/pizza_358.jpg', './data/base/pizza/pizza_370.jpg', './data/base/pizza/pizza_364.jpg', './data/base/pizza/pizza_199.jpg', './data/base/pizza/pizza_198.jpg', './data/base/pizza/pizza_173.jpg', './data/base/pizza/pizza_403.jpg', './data/base/pizza/pizza_365.jpg', './data/base/pizza/pizza_371.jpg', './data/base/pizza/pizza_417.jpg', './data/base/pizza/pizza_359.jpg', './data/base/pizza/pizza_205.jpg', './data/base/pizza/pizza_239.jpg', './data/base/pizza/pizza_201.jpg', './data/base/pizza/pizza_229.jpg', './data/base/pizza/pizza_375.jpg', './data/base/pizza/pizza_361.jpg', './data/base/pizza/pizza_349.jpg', './data/base/pizza/pizza_177.jpg', './data/base/pizza/pizza_176.jpg', './data/base/pizza/pizza_348.jpg', './data/base/pizza/pizza_360.jpg', './data/base/pizza/pizza_412.jpg', './data/base/pizza/pizza_374.jpg', './data/base/pizza/pizza_228.jpg', './data/base/pizza/pizza_214.jpg', './data/base/pizza/pizza_200.jpg', './data/base/pizza/pizza_216.jpg', './data/base/pizza/pizza_376.jpg', './data/base/pizza/pizza_438.jpg', './data/base/pizza/pizza_389.jpg', './data/base/pizza/pizza_174.jpg', './data/base/pizza/crop_pizza48.jpg', './data/base/pizza/crop_pizza49.jpg', './data/base/pizza/pizza_175.jpg', './data/base/pizza/pizza_439.jpg', './data/base/pizza/pizza_377.jpg', './data/base/pizza/pizza_405.jpg', './data/base/pizza/pizza_363.jpg', './data/base/pizza/pizza_203.jpg', './data/base/pizza/pizza_217.jpg', './data/base/pizza/pizza_270.jpg', './data/base/pizza/pizza_264.jpg', './data/base/pizza/pizza_338.jpg', './data/base/pizza/pizza_304.jpg', './data/base/pizza/crop_pizza7.jpg', './data/base/pizza/pizza_310.jpg', './data/base/pizza/crop_pizza12.jpg', './data/base/pizza/crop_pizza13.jpg', './data/base/pizza/pizza_311.jpg', './data/base/pizza/crop_pizza6.jpg', './data/base/pizza/pizza_305.jpg', './data/base/pizza/pizza_339.jpg', './data/base/pizza/pizza_265.jpg', './data/base/pizza/pizza_271.jpg', './data/base/pizza/pizza_267.jpg', './data/base/pizza/pizza_273.jpg', './data/base/pizza/pizza_298.jpg', './data/base/pizza/pizza_449.jpg', './data/base/pizza/crop_pizza4.jpg', './data/base/pizza/pizza_313.jpg', './data/base/pizza/pizza_307.jpg', './data/base/pizza/crop_pizza39.jpg', './data/base/pizza/crop_pizza11.jpg', './data/base/pizza/crop_pizza10.jpg', './data/base/pizza/crop_pizza38.jpg', './data/base/pizza/pizza_306.jpg', './data/base/pizza/pizza_312.jpg', './data/base/pizza/crop_pizza5.jpg', './data/base/pizza/pizza_448.jpg', './data/base/pizza/pizza_299.jpg', './data/base/pizza/pizza_272.jpg', './data/base/pizza/pizza_266.jpg', './data/base/pizza/pizza_276.jpg', './data/base/pizza/pizza_289.jpg', './data/base/pizza/crop_pizza1.jpg', './data/base/pizza/pizza_316.jpg', './data/base/pizza/pizza_302.jpg', './data/base/pizza/crop_pizza14.jpg', './data/base/pizza/crop_pizza28.jpg', './data/base/pizza/crop_pizza29.jpg', './data/base/pizza/crop_pizza15.jpg', './data/base/pizza/pizza_303.jpg', './data/base/pizza/pizza_317.jpg', './data/base/pizza/pizza_288.jpg', './data/base/pizza/pizza_277.jpg', './data/base/pizza/pizza_263.jpg', './data/base/pizza/pizza_275.jpg', './data/base/pizza/pizza_261.jpg', './data/base/pizza/pizza_249.jpg', './data/base/pizza/pizza_301.jpg', './data/base/pizza/crop_pizza2.jpg', './data/base/pizza/pizza_315.jpg', './data/base/pizza/pizza_329.jpg', './data/base/pizza/crop_pizza17.jpg', './data/base/pizza/crop_pizza16.jpg', './data/base/pizza/pizza_328.jpg', './data/base/pizza/pizza_314.jpg', './data/base/pizza/crop_pizza3.jpg', './data/base/pizza/pizza_300.jpg', './data/base/pizza/pizza_248.jpg', './data/base/pizza/pizza_274.jpg']}\n",
      "sashimi 40\n",
      "sushi 124\n",
      "pizza 299\n"
     ]
    }
   ],
   "source": [
    "## Identify image filepaths in data directory\n",
    "\n",
    "data_dir = './data/base'\n",
    "output_fname = data_dir + '.csv'\n",
    "\n",
    "category_dirs = [os.path.join(data_dir, d) for d in os.listdir(data_dir) if os.path.isdir(os.path.join(data_dir, d))]\n",
    "categories = [os.path.basename(d) for d in category_dirs]\n",
    "print(categories)\n",
    "\n",
    "print(data_dir)\n",
    "\n",
    "food_image_files = {}\n",
    "\n",
    "for category in categories:\n",
    "  food_image_files[category] = [os.path.join(data_dir, category, f) for f in os.listdir(os.path.join(data_dir, category)) if os.path.isfile(os.path.join(data_dir, category, f))]\n",
    "\n",
    "print(food_image_files)\n",
    "\n",
    "## Identify number of images in each category\n",
    "for category in categories:\n",
    "  print(category, len(food_image_files[category]))\n",
    "\n",
    "## Place image filepaths in dictionary into data frame with category as label\n",
    "food_image_df = pd.DataFrame(columns=['label', 'file'])\n",
    "\n",
    "for category in categories:\n",
    "  for file in food_image_files[category]:\n",
    "    food_image_df = food_image_df._append({'label': category, 'file': file}, ignore_index=True)\n"
   ]
  },
  {
   "cell_type": "code",
   "execution_count": 9,
   "metadata": {},
   "outputs": [
    {
     "name": "stdout",
     "output_type": "stream",
     "text": [
      "452\n",
      "452\n"
     ]
    }
   ],
   "source": [
    "## Compute md5 hash of images to identify and drop duplicates\n",
    "def hash_file(file):\n",
    "  with open(file, 'rb') as f:\n",
    "    return hashlib.md5(f.read()).hexdigest()\n",
    "\n",
    "food_image_df['hash'] = food_image_df['file'].apply(hash_file)\n",
    "\n",
    "## Identify and remove duplicates\n",
    "# duplicates = food_image_df[food_image_df.duplicated(subset='hash', keep=False)]\n",
    "# print(duplicates)\n",
    "print(len(food_image_df))\n",
    "food_image_df = food_image_df.drop_duplicates(subset='hash')\n",
    "\n",
    "print(len(food_image_df))\n",
    "\n",
    "# Drop hash column\n",
    "food_image_df = food_image_df.drop(columns=['hash'])\n",
    "\n",
    "## Save data frame to csv\n",
    "food_image_df.to_csv(output_fname, index=False)"
   ]
  }
 ],
 "metadata": {
  "kernelspec": {
   "display_name": "base",
   "language": "python",
   "name": "python3"
  },
  "language_info": {
   "codemirror_mode": {
    "name": "ipython",
    "version": 3
   },
   "file_extension": ".py",
   "mimetype": "text/x-python",
   "name": "python",
   "nbconvert_exporter": "python",
   "pygments_lexer": "ipython3",
   "version": "3.12.2"
  }
 },
 "nbformat": 4,
 "nbformat_minor": 2
}
